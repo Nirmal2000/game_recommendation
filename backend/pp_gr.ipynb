{
 "cells": [
  {
   "cell_type": "code",
   "execution_count": 32,
   "id": "cde0662f",
   "metadata": {},
   "outputs": [],
   "source": [
    "from dotenv import load_dotenv\n",
    "load_dotenv()\n",
    "import requests\n",
    "from bs4 import BeautifulSoup\n",
    "import concurrent.futures\n",
    "import numpy as np\n",
    "import json\n",
    "import os\n",
    "import markdown\n",
    "import time\n",
    "import pickle\n",
    "import re"
   ]
  },
  {
   "cell_type": "code",
   "execution_count": 2,
   "id": "e29be9b5",
   "metadata": {},
   "outputs": [],
   "source": [
    "from langchain_openai import ChatOpenAI\n",
    "from langchain_core.messages import HumanMessage\n",
    "from langgraph.graph import END, MessageGraph\n",
    "from langchain_community.tools import BraveSearch\n",
    "from langgraph.prebuilt import ToolExecutor\n",
    "from langchain_core.tools import tool"
   ]
  },
  {
   "cell_type": "code",
   "execution_count": 3,
   "id": "0ae20159",
   "metadata": {},
   "outputs": [],
   "source": [
    "def strip_markdown(md):\n",
    "    html = markdown.markdown(md)\n",
    "    soup = BeautifulSoup(html, features='html.parser')\n",
    "    return soup.get_text()"
   ]
  },
  {
   "cell_type": "code",
   "execution_count": 25,
   "id": "6b206c22",
   "metadata": {},
   "outputs": [],
   "source": [
    "llm_cache = pickle.load(open('./backend/files/llm_cache.pkl', 'rb'))\n",
    "api_cache = {}"
   ]
  },
  {
   "cell_type": "code",
   "execution_count": 5,
   "id": "d4a4d3f3",
   "metadata": {},
   "outputs": [],
   "source": [
    "pp_model = ChatOpenAI(temperature=0, \n",
    "                   base_url='https://api.perplexity.ai', \n",
    "                   api_key=os.environ['PERPLEXITY_API_KEY'],\n",
    "                  model='llama-3-sonar-large-32k-online')"
   ]
  },
  {
   "cell_type": "code",
   "execution_count": 26,
   "id": "77da2ed0",
   "metadata": {},
   "outputs": [],
   "source": [
    "def generate_answer(model, messages):\n",
    "    messages_list = tuple([(i['role'], i['content']) for i in messages])\n",
    "    if (model.model_name, messages_list) in llm_cache:\n",
    "        return llm_cache[(model.model_name, messages_list)]\n",
    "    result = model.invoke(messages).content\n",
    "    llm_cache[(model.model_name, messages_list)] = result\n",
    "    return llm_cache[(model.model_name, messages_list)]"
   ]
  },
  {
   "cell_type": "code",
   "execution_count": 27,
   "id": "ebaf246f",
   "metadata": {},
   "outputs": [],
   "source": [
    "def handle_get_requests(url, params):\n",
    "    params = tuple([(i,j) for i,j in params.items()])\n",
    "    if (url, params) in api_cache:\n",
    "        return api_cache[(url, params)]\n",
    "    api_cache[(url, params)] = requests.get(url, params)\n",
    "    time.sleep(1)\n",
    "    return api_cache[(url, params)]"
   ]
  },
  {
   "cell_type": "code",
   "execution_count": 28,
   "id": "0b3a1c71",
   "metadata": {},
   "outputs": [],
   "source": [
    "class RAWG:\n",
    "    def __init__(self, api_key):\n",
    "        self.ak = api_key\n",
    "        self.games_url = 'https://api.rawg.io/api/games'\n",
    "    def search_game(self, query):\n",
    "        params = {\n",
    "            'key': self.ak,\n",
    "            'page': 1,           # Specify which page of results to return\n",
    "            'page_size': 10,     # Specify the number of results per page\n",
    "            'search': query,\n",
    "            \n",
    "        }\n",
    "        response = handle_get_requests(self.games_url, params).content\n",
    "        return json.loads(response)['results'][0]"
   ]
  },
  {
   "cell_type": "code",
   "execution_count": 29,
   "id": "273bb64b",
   "metadata": {},
   "outputs": [],
   "source": [
    "rawg = RAWG(os.environ['RAWG_API_KEY'])"
   ]
  },
  {
   "cell_type": "code",
   "execution_count": 35,
   "id": "efebc6d9",
   "metadata": {},
   "outputs": [],
   "source": [
    "def recommend_games(model, query, rawg):\n",
    "\n",
    "    messages = [        \n",
    "        {'role': 'system', 'content': '''You are the best Game recommendation engine in the world. \\ \n",
    "Given any type of query related to recommending video games you are supposed to provide a list of games that satisfy the user's request and also explain briefly for each game why. Return the results in a numbered list.'''},\n",
    "        {'role': 'user', 'content': query+' Return the results in a numbered list and explain briefly why each is a good fit in 50 words.'}\n",
    "    ]\n",
    "    answer = strip_markdown(generate_answer(model, messages))\n",
    "    answer = re.sub(r'\\[\\d+\\]', '', answer)\n",
    "    print(answer)\n",
    "    game_list = []\n",
    "    for i in answer.split('\\n'):\n",
    "        if i:\n",
    "            i = i.split(': ')\n",
    "            if ': '.join(i[:-1]):\n",
    "                game_list.append([': '.join(i[:-1]), i[-1]])\n",
    "                \n",
    "    recommended_games_info = {}\n",
    "    for i,j in game_list:\n",
    "        cur_game_info = rawg.search_game(i)\n",
    "        cur_game_info['why'] = j\n",
    "        recommended_games_info[cur_game_info['name']] = cur_game_info\n",
    "        \n",
    "    return recommended_games_info"
   ]
  },
  {
   "cell_type": "code",
   "execution_count": 36,
   "id": "451dbbd6",
   "metadata": {},
   "outputs": [
    {
     "name": "stdout",
     "output_type": "stream",
     "text": [
      "Here are some games with excellent combat mechanics, along with a brief explanation of why each is a good fit:\n",
      "\n",
      "Bayonetta 3: Offers a fluid and stylish combat system that rewards players with a sense of satisfaction and power.\n",
      "Bloodborne: Provides a challenging and reactive combat system that favors speed, timing, and visceral action, making it feel more like a 3D action game than a traditional RPG.\n",
      "Sekiro: Shadows Die Twice: Features a combat system that is fast, fluid, and rewards players who master its mechanics with a satisfying sense of accomplishment, offering a high level of freedom and experimentation.\n",
      "Shadow of the Colossus: Offers a unique combat system that focuses on taking down massive bosses, requiring careful planning and execution, and providing an epic and intense experience.\n",
      "Devil May Cry 5: Boasts a smooth and stylish combat system that lets players feel like a true demon-slaying badass, with a seamless flow of weapons, combos, and special moves.\n",
      "God of War Ragnarök: Features a combat system that is carefully crafted to create a unique and satisfying experience, with a focus on strategy and player choice.\n",
      "Nioh 2: Offers a challenging and rewarding combat system that requires skill and strategy to overcome its tough enemies and bosses.\n",
      "Doom Eternal: Provides a fast-paced and intense combat system that rewards players with a sense of power and satisfaction, with a focus on aggressive play and quick reflexes.\n",
      "Armored Core VI: Features a combat system that offers a sense of power fantasy, with players controlling heavily armed mechs in increasingly tough battles.\n",
      "Street Fighter 6: Boasts a solid and fun combat system with a high skill ceiling, making it enjoyable to experiment with different characters and find what works best.\n",
      "Mortal Kombat 1 (2023): Offers a combat system that is easy to pick up but difficult to master, with a vast list of combos available for each character and a high level of strategy required on higher difficulties.\n",
      "Dead Space Remake: Features a combat system that is faithful to the original, with a focus on player freedom and a variety of weapons and abilities to use against enemies.\n",
      "Hi-Fi Rush: Offers a unique combat system that is rhythm-based, requiring players to keep in time with the beat as they dish out damage to their foes.\n",
      "Tales of Graces F: Features a real-time combat system that is fast-paced and accessible, with a focus on chaining moves together and local co-op play.\n",
      "Ys 8 & Ys 9: Boast combat systems that are fast-paced, responsive, and accessible, with a focus on action and exploration.\n",
      "Nier: Automata: Offers a combat system that merges multiple genres, including swordplay, mech battles, and top-down shooting, with a focus on strategy and player choice.\n",
      "\n",
      "These games all offer unique and engaging combat mechanics that can enhance the gaming experience.\n"
     ]
    }
   ],
   "source": [
    "recommended_games = recommend_games(pp_model,\"Recommend me games that really good combat mechanics and brilliant story telling\", rawg)"
   ]
  },
  {
   "cell_type": "code",
   "execution_count": 37,
   "id": "4613cf46",
   "metadata": {},
   "outputs": [],
   "source": [
    "pickle.dump(llm_cache, open('llm_cache.pkl', 'wb'))\n",
    "pickle.dump(api_cache, open('api_cache.pkl', 'wb'))"
   ]
  },
  {
   "cell_type": "code",
   "execution_count": 41,
   "id": "9678d5b3",
   "metadata": {},
   "outputs": [],
   "source": []
  }
 ],
 "metadata": {
  "kernelspec": {
   "display_name": "topictagging",
   "language": "python",
   "name": "topictagging"
  },
  "language_info": {
   "codemirror_mode": {
    "name": "ipython",
    "version": 3
   },
   "file_extension": ".py",
   "mimetype": "text/x-python",
   "name": "python",
   "nbconvert_exporter": "python",
   "pygments_lexer": "ipython3",
   "version": "3.9.12"
  }
 },
 "nbformat": 4,
 "nbformat_minor": 5
}
