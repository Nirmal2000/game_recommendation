{
 "cells": [
  {
   "cell_type": "code",
   "execution_count": 1,
   "id": "cde0662f",
   "metadata": {},
   "outputs": [],
   "source": [
    "from dotenv import load_dotenv\n",
    "load_dotenv()\n",
    "import requests\n",
    "from bs4 import BeautifulSoup\n",
    "import concurrent.futures\n",
    "import numpy as np\n",
    "import json\n",
    "import os\n",
    "import markdown\n",
    "import time\n",
    "import pickle\n",
    "import re"
   ]
  },
  {
   "cell_type": "code",
   "execution_count": 2,
   "id": "e29be9b5",
   "metadata": {},
   "outputs": [],
   "source": [
    "from langchain_openai import ChatOpenAI\n",
    "from langchain_core.messages import HumanMessage\n",
    "from langgraph.graph import END, MessageGraph\n",
    "from langchain_community.tools import BraveSearch\n",
    "from langgraph.prebuilt import ToolExecutor\n",
    "from langchain_core.tools import tool"
   ]
  },
  {
   "cell_type": "code",
   "execution_count": 3,
   "id": "0ae20159",
   "metadata": {},
   "outputs": [],
   "source": [
    "def strip_markdown(md):\n",
    "    html = markdown.markdown(md)\n",
    "    soup = BeautifulSoup(html, features='html.parser')\n",
    "    return soup.get_text()"
   ]
  },
  {
   "cell_type": "code",
   "execution_count": 3,
   "id": "6b206c22",
   "metadata": {},
   "outputs": [],
   "source": [
    "# llm_cache = pickle.load(open('./backend/files/llm_cache.pkl', 'rb'))\n",
    "api_cache = {}"
   ]
  },
  {
   "cell_type": "code",
   "execution_count": 5,
   "id": "d4a4d3f3",
   "metadata": {},
   "outputs": [],
   "source": [
    "pp_model = ChatOpenAI(temperature=0, \n",
    "                   base_url='https://api.perplexity.ai', \n",
    "                   api_key=os.environ['PERPLEXITY_API_KEY'],\n",
    "                  model='llama-3-sonar-large-32k-online')"
   ]
  },
  {
   "cell_type": "code",
   "execution_count": 26,
   "id": "77da2ed0",
   "metadata": {},
   "outputs": [],
   "source": [
    "def generate_answer(model, messages):\n",
    "    messages_list = tuple([(i['role'], i['content']) for i in messages])\n",
    "    if (model.model_name, messages_list) in llm_cache:\n",
    "        return llm_cache[(model.model_name, messages_list)]\n",
    "    result = model.invoke(messages).content\n",
    "    llm_cache[(model.model_name, messages_list)] = result\n",
    "    return llm_cache[(model.model_name, messages_list)]"
   ]
  },
  {
   "cell_type": "code",
   "execution_count": 4,
   "id": "ebaf246f",
   "metadata": {},
   "outputs": [],
   "source": [
    "def handle_get_requests(url, params):\n",
    "    from app import api_cache\n",
    "    params = tuple([(i,j) for i,j in params.items()])\n",
    "    if (url, params) in api_cache:\n",
    "        return api_cache[(url, params)]\n",
    "    while 1:\n",
    "        try:\n",
    "            api_cache[(url, params)] = requests.get(url, params)\n",
    "            json.loads(api_cache[(url, params)].content)\n",
    "            # time.sleep(0.5)\n",
    "            break\n",
    "        except:\n",
    "            continue\n",
    "\n",
    "    return api_cache[(url, params)]"
   ]
  },
  {
   "cell_type": "code",
   "execution_count": 5,
   "id": "efebc6d9",
   "metadata": {},
   "outputs": [],
   "source": [
    "def recommend_games(model, query, rawg):\n",
    "\n",
    "    messages = [        \n",
    "        {'role': 'system', 'content': '''You are the best Game recommendation engine in the world. \\ \n",
    "Given any type of query related to recommending video games you are supposed to provide a list of games that satisfy the user's request and also explain briefly for each game why. Return the results in a numbered list.'''},\n",
    "        {'role': 'user', 'content': query+' Return the results in a numbered list and explain briefly why each is a good fit in 50 words.'}\n",
    "    ]\n",
    "    answer = strip_markdown(generate_answer(model, messages))\n",
    "    answer = re.sub(r'\\[\\d+\\]', '', answer)\n",
    "    print(answer)\n",
    "    game_list = []\n",
    "    for i in answer.split('\\n'):\n",
    "        if i:\n",
    "            i = i.split(': ')\n",
    "            if ': '.join(i[:-1]):\n",
    "                game_list.append([': '.join(i[:-1]), i[-1]])\n",
    "                \n",
    "    recommended_games_info = {}\n",
    "    for i,j in game_list:\n",
    "        cur_game_info = rawg.search_game(i)\n",
    "        cur_game_info['why'] = j\n",
    "        recommended_games_info[cur_game_info['name']] = cur_game_info\n",
    "        \n",
    "    return recommended_games_info"
   ]
  },
  {
   "cell_type": "code",
   "execution_count": 6,
   "id": "0b3a1c71",
   "metadata": {},
   "outputs": [],
   "source": [
    "class RAWG:\n",
    "    def __init__(self, api_key):\n",
    "        self.ak = api_key\n",
    "        self.games_url = 'https://api.rawg.io/api/games'\n",
    "    def search_game(self, query):\n",
    "        params = {\n",
    "            'key': self.ak,\n",
    "            'page': 1,           # Specify which page of results to return\n",
    "            'page_size': 10,     # Specify the number of results per page\n",
    "            'search': query,\n",
    "            \n",
    "        }\n",
    "        response = handle_get_requests(self.games_url, params).content\n",
    "        response = json.loads(response)['results'][0]\n",
    "        stores = self.get_stores(response['id'])\n",
    "        new_stores = {}\n",
    "        for i in stores:\n",
    "            if 'steampowered' in i['url']:\n",
    "                new_stores['PC'] = i['url']\n",
    "            elif 'microsoft.' in i['url']:\n",
    "                new_stores['Xbox'] = i['url']\n",
    "            elif 'playstation.' in i['url']:\n",
    "                new_stores['PlayStation'] = i['url']\n",
    "            elif 'nintendo'  in i['url']:\n",
    "                new_stores['Switch'] = i['url']\n",
    "        \n",
    "\n",
    "        for idx, i in enumerate(response['parent_platforms']):\n",
    "            if i['platform']['name'] in new_stores:\n",
    "                response['parent_platforms'][idx]['platform']['url'] = new_stores[i['platform']['name']]\n",
    "        return response\n",
    "    \n",
    "    def get_stores(self, gameId):\n",
    "        params = {\n",
    "            'key': self.ak,\n",
    "#             'page': 1,           # Specify which page of results to return\n",
    "#             'page_size': 10,     # Specify the number of results per page\n",
    "#             'search': query,\n",
    "            \n",
    "        }\n",
    "        response = handle_get_requests(self.games_url+f\"/{gameId}/stores\", params).content\n",
    "        print(json.loads(response))\n",
    "        return json.loads(response)['results']\n",
    "    \n",
    "    def get_game(self, gameId):\n",
    "        params = {\n",
    "            'key': self.ak,\n",
    "#             'page': 1,           # Specify which page of results to return\n",
    "#             'page_size': 10,     # Specify the number of results per page\n",
    "#             'search': query,\n",
    "            \n",
    "        }\n",
    "        response = handle_get_requests(self.games_url+f\"/{gameId}\", params).content\n",
    "        print(json.loads(response))\n",
    "        return json.loads(response)['results']"
   ]
  },
  {
   "cell_type": "code",
   "execution_count": 7,
   "id": "273bb64b",
   "metadata": {},
   "outputs": [],
   "source": [
    "rawg = RAWG(os.environ['RAWG_API_KEY'])"
   ]
  },
  {
   "cell_type": "code",
   "execution_count": 36,
   "id": "451dbbd6",
   "metadata": {
    "collapsed": true
   },
   "outputs": [
    {
     "name": "stdout",
     "output_type": "stream",
     "text": [
      "Here are some games with excellent combat mechanics, along with a brief explanation of why each is a good fit:\n",
      "\n",
      "Bayonetta 3: Offers a fluid and stylish combat system that rewards players with a sense of satisfaction and power.\n",
      "Bloodborne: Provides a challenging and reactive combat system that favors speed, timing, and visceral action, making it feel more like a 3D action game than a traditional RPG.\n",
      "Sekiro: Shadows Die Twice: Features a combat system that is fast, fluid, and rewards players who master its mechanics with a satisfying sense of accomplishment, offering a high level of freedom and experimentation.\n",
      "Shadow of the Colossus: Offers a unique combat system that focuses on taking down massive bosses, requiring careful planning and execution, and providing an epic and intense experience.\n",
      "Devil May Cry 5: Boasts a smooth and stylish combat system that lets players feel like a true demon-slaying badass, with a seamless flow of weapons, combos, and special moves.\n",
      "God of War Ragnarök: Features a combat system that is carefully crafted to create a unique and satisfying experience, with a focus on strategy and player choice.\n",
      "Nioh 2: Offers a challenging and rewarding combat system that requires skill and strategy to overcome its tough enemies and bosses.\n",
      "Doom Eternal: Provides a fast-paced and intense combat system that rewards players with a sense of power and satisfaction, with a focus on aggressive play and quick reflexes.\n",
      "Armored Core VI: Features a combat system that offers a sense of power fantasy, with players controlling heavily armed mechs in increasingly tough battles.\n",
      "Street Fighter 6: Boasts a solid and fun combat system with a high skill ceiling, making it enjoyable to experiment with different characters and find what works best.\n",
      "Mortal Kombat 1 (2023): Offers a combat system that is easy to pick up but difficult to master, with a vast list of combos available for each character and a high level of strategy required on higher difficulties.\n",
      "Dead Space Remake: Features a combat system that is faithful to the original, with a focus on player freedom and a variety of weapons and abilities to use against enemies.\n",
      "Hi-Fi Rush: Offers a unique combat system that is rhythm-based, requiring players to keep in time with the beat as they dish out damage to their foes.\n",
      "Tales of Graces F: Features a real-time combat system that is fast-paced and accessible, with a focus on chaining moves together and local co-op play.\n",
      "Ys 8 & Ys 9: Boast combat systems that are fast-paced, responsive, and accessible, with a focus on action and exploration.\n",
      "Nier: Automata: Offers a combat system that merges multiple genres, including swordplay, mech battles, and top-down shooting, with a focus on strategy and player choice.\n",
      "\n",
      "These games all offer unique and engaging combat mechanics that can enhance the gaming experience.\n"
     ]
    }
   ],
   "source": [
    "recommended_games = recommend_games(pp_model,\"Recommend me games that really good combat mechanics and brilliant story telling\", rawg)"
   ]
  },
  {
   "cell_type": "code",
   "execution_count": 37,
   "id": "4613cf46",
   "metadata": {},
   "outputs": [],
   "source": [
    "pickle.dump(llm_cache, open('llm_cache.pkl', 'wb'))\n",
    "pickle.dump(api_cache, open('api_cache.pkl', 'wb'))"
   ]
  },
  {
   "cell_type": "code",
   "execution_count": 41,
   "id": "9678d5b3",
   "metadata": {},
   "outputs": [],
   "source": []
  },
  {
   "cell_type": "code",
   "execution_count": null,
   "id": "ff7dc849",
   "metadata": {},
   "outputs": [],
   "source": []
  },
  {
   "cell_type": "code",
   "execution_count": 8,
   "id": "e0ee8e5d",
   "metadata": {},
   "outputs": [
    {
     "name": "stdout",
     "output_type": "stream",
     "text": [
      "{'count': 3, 'next': None, 'previous': None, 'results': [{'id': 49960, 'game_id': 50734, 'store_id': 2, 'url': 'https://www.microsoft.com/en-us/p/sekiro-shadows-die-twice/bqd5wrrp2d6q?cid=msft_web_chart'}, {'id': 49948, 'game_id': 50734, 'store_id': 1, 'url': 'https://store.steampowered.com/app/814380/'}, {'id': 49961, 'game_id': 50734, 'store_id': 3, 'url': 'https://store.playstation.com/en-us/product/UP0002-CUSA12047_00-SEKIROGAME000001'}]}\n"
     ]
    }
   ],
   "source": [
    "a = rawg.search_game(\"Sekiro shadows die twice\")"
   ]
  },
  {
   "cell_type": "code",
   "execution_count": 9,
   "id": "cbb95077",
   "metadata": {},
   "outputs": [
    {
     "name": "stdout",
     "output_type": "stream",
     "text": [
      "{'id': 50734, 'slug': 'shadows-die-twice', 'name': 'Sekiro: Shadows Die Twice', 'name_original': 'Sekiro: Shadows Die Twice', 'description': '<p>Sekiro: Shadows Die Twice is a game about a ninja (or shinobi, as they call it), who is seeking revenge in the Sengoku era Japan.</p>\\n<h3>Plot</h3>\\n<p>The game is set in the 16th century in a fictionalized version of Japan. The main protagonist is a member of a shinobi clan. A samurai from the rival Ashina clan captured the protagonist&#39;s master, and the protagonist himself lost his arm trying to protect his leader. However, a sculptor of Buddha statues managed to replace the lost limb with an advanced prosthetic arm. The protagonist accepted a new name, Sekiro, meaning “one-armed wolf”. Now his goal is to avenge his clan and to save his leader from the hands of their enemies.</p>\\n<h3>Gameplay</h3>\\n<p>The player controls Sekiro from the third person view and navigates the character as he fights multiple enemies. Sekiro: Shadows Die Twice features an innovative combat system that doesn&#39;t use hit points. Instead, the opponents can be killed with a single precision strike. However, the player has to fight his or her way through the opponent&#39;s blocks and parries to land the deadly blow. The main character fights with his sword (katana) in the right hand, while his left hand can host a variety of upgrades, such as an ax, a torch, or a shield. The game also emphasizes stealth action. The player has to use a grappling hook to access multiple locations. Sekiro: Shadows Die Twice has no multiplayer.</p>', 'metacritic': 90, 'metacritic_platforms': [{'metascore': 91, 'url': 'https://www.metacritic.com/game/xbox-one/sekiro-shadows-die-twice', 'platform': {'platform': 1, 'name': 'Xbox One', 'slug': 'xbox-one'}}, {'metascore': 88, 'url': 'https://www.metacritic.com/game/pc/sekiro-shadows-die-twice', 'platform': {'platform': 4, 'name': 'PC', 'slug': 'pc'}}, {'metascore': 90, 'url': 'https://www.metacritic.com/game/playstation-4/sekiro-shadows-die-twice', 'platform': {'platform': 18, 'name': 'PlayStation 4', 'slug': 'playstation4'}}], 'released': '2019-03-22', 'tba': False, 'updated': '2024-05-10T13:22:48', 'background_image': 'https://media.rawg.io/media/games/67f/67f62d1f062a6164f57575e0604ee9f6.jpg', 'background_image_additional': 'https://media.rawg.io/media/screenshots/332/332d2e95a19ea2757857caf034a97541.jpg', 'website': 'http://www.sekirothegame.com', 'rating': 4.38, 'rating_top': 5, 'ratings': [{'id': 5, 'title': 'exceptional', 'count': 1207, 'percent': 60.14}, {'id': 4, 'title': 'recommended', 'count': 530, 'percent': 26.41}, {'id': 3, 'title': 'meh', 'count': 180, 'percent': 8.97}, {'id': 1, 'title': 'skip', 'count': 90, 'percent': 4.48}], 'reactions': {'1': 10, '2': 6, '3': 6, '5': 1, '6': 13, '7': 2, '9': 2, '10': 2, '11': 3, '12': 2, '15': 1, '21': 1}, 'added': 7736, 'added_by_status': {'yet': 535, 'owned': 3720, 'beaten': 1308, 'toplay': 1225, 'dropped': 637, 'playing': 311}, 'playtime': 15, 'screenshots_count': 6, 'movies_count': 0, 'creators_count': 2, 'achievements_count': 77, 'parent_achievements_count': 11, 'reddit_url': 'https://www.reddit.com/r/Sekiro/', 'reddit_name': '', 'reddit_description': '', 'reddit_logo': '', 'reddit_count': 8897, 'twitch_count': 130, 'youtube_count': 1000000, 'reviews_text_count': 34, 'ratings_count': 1973, 'suggestions_count': 526, 'alternative_names': [], 'metacritic_url': 'https://www.metacritic.com/game/playstation-4/sekiro-shadows-die-twice', 'parents_count': 0, 'additions_count': 0, 'game_series_count': 10, 'user_game': None, 'reviews_count': 2007, 'saturated_color': '0f0f0f', 'dominant_color': '0f0f0f', 'parent_platforms': [{'platform': {'id': 1, 'name': 'PC', 'slug': 'pc'}}, {'platform': {'id': 2, 'name': 'PlayStation', 'slug': 'playstation'}}, {'platform': {'id': 3, 'name': 'Xbox', 'slug': 'xbox'}}], 'platforms': [{'platform': {'id': 1, 'name': 'Xbox One', 'slug': 'xbox-one', 'image': None, 'year_end': None, 'year_start': None, 'games_count': 5618, 'image_background': 'https://media.rawg.io/media/games/310/3106b0e012271c5ffb16497b070be739.jpg'}, 'released_at': '2019-03-22', 'requirements': {}}, {'platform': {'id': 4, 'name': 'PC', 'slug': 'pc', 'image': None, 'year_end': None, 'year_start': None, 'games_count': 528349, 'image_background': 'https://media.rawg.io/media/games/120/1201a40e4364557b124392ee50317b99.jpg'}, 'released_at': '2019-03-22', 'requirements': {}}, {'platform': {'id': 18, 'name': 'PlayStation 4', 'slug': 'playstation4', 'image': None, 'year_end': None, 'year_start': None, 'games_count': 6805, 'image_background': 'https://media.rawg.io/media/games/618/618c2031a07bbff6b4f611f10b6bcdbc.jpg'}, 'released_at': '2019-03-22', 'requirements': {}}], 'stores': [{'id': 49960, 'url': '', 'store': {'id': 2, 'name': 'Xbox Store', 'slug': 'xbox-store', 'domain': 'microsoft.com', 'games_count': 4847, 'image_background': 'https://media.rawg.io/media/games/587/587588c64afbff80e6f444eb2e46f9da.jpg'}}, {'id': 49948, 'url': '', 'store': {'id': 1, 'name': 'Steam', 'slug': 'steam', 'domain': 'store.steampowered.com', 'games_count': 91507, 'image_background': 'https://media.rawg.io/media/games/34b/34b1f1850a1c06fd971bc6ab3ac0ce0e.jpg'}}, {'id': 49961, 'url': '', 'store': {'id': 3, 'name': 'PlayStation Store', 'slug': 'playstation-store', 'domain': 'store.playstation.com', 'games_count': 7935, 'image_background': 'https://media.rawg.io/media/games/7cf/7cfc9220b401b7a300e409e539c9afd5.jpg'}}], 'developers': [{'id': 6763, 'name': 'FromSoftware', 'slug': 'fromsoftware', 'games_count': 70, 'image_background': 'https://media.rawg.io/media/screenshots/dba/dba7f755ce6965dd45f227ad5ad7edf4.jpg'}], 'genres': [{'id': 4, 'name': 'Action', 'slug': 'action', 'games_count': 179305, 'image_background': 'https://media.rawg.io/media/games/021/021c4e21a1824d2526f925eff6324653.jpg'}, {'id': 5, 'name': 'RPG', 'slug': 'role-playing-games-rpg', 'games_count': 55586, 'image_background': 'https://media.rawg.io/media/games/f99/f9979698c43fd84c3ab69280576dd3af.jpg'}], 'tags': [{'id': 31, 'name': 'Singleplayer', 'slug': 'singleplayer', 'language': 'eng', 'games_count': 220522, 'image_background': 'https://media.rawg.io/media/games/511/5118aff5091cb3efec399c808f8c598f.jpg'}, {'id': 13, 'name': 'Atmospheric', 'slug': 'atmospheric', 'language': 'eng', 'games_count': 32548, 'image_background': 'https://media.rawg.io/media/games/f46/f466571d536f2e3ea9e815ad17177501.jpg'}, {'id': 42, 'name': 'Great Soundtrack', 'slug': 'great-soundtrack', 'language': 'eng', 'games_count': 3391, 'image_background': 'https://media.rawg.io/media/games/ee3/ee3e10193aafc3230ba1cae426967d10.jpg'}, {'id': 24, 'name': 'RPG', 'slug': 'rpg', 'language': 'eng', 'games_count': 20341, 'image_background': 'https://media.rawg.io/media/games/ee3/ee3e10193aafc3230ba1cae426967d10.jpg'}, {'id': 118, 'name': 'Story Rich', 'slug': 'story-rich', 'language': 'eng', 'games_count': 21003, 'image_background': 'https://media.rawg.io/media/games/8a0/8a02f84a5916ede2f923b88d5f8217ba.jpg'}, {'id': 36, 'name': 'Open World', 'slug': 'open-world', 'language': 'eng', 'games_count': 7266, 'image_background': 'https://media.rawg.io/media/games/511/5118aff5091cb3efec399c808f8c598f.jpg'}, {'id': 149, 'name': 'Third Person', 'slug': 'third-person', 'language': 'eng', 'games_count': 11124, 'image_background': 'https://media.rawg.io/media/games/8a0/8a02f84a5916ede2f923b88d5f8217ba.jpg'}, {'id': 40845, 'name': 'Partial Controller Support', 'slug': 'partial-controller-support', 'language': 'eng', 'games_count': 11441, 'image_background': 'https://media.rawg.io/media/games/2ad/2ad87a4a69b1104f02435c14c5196095.jpg'}, {'id': 49, 'name': 'Difficult', 'slug': 'difficult', 'language': 'eng', 'games_count': 13142, 'image_background': 'https://media.rawg.io/media/games/226/2262cea0b385db6cf399f4be831603b0.jpg'}, {'id': 6, 'name': 'Exploration', 'slug': 'exploration', 'language': 'eng', 'games_count': 22367, 'image_background': 'https://media.rawg.io/media/games/737/737ea5662211d2e0bbd6f5989189e4f1.jpg'}, {'id': 34, 'name': 'Violent', 'slug': 'violent', 'language': 'eng', 'games_count': 6563, 'image_background': 'https://media.rawg.io/media/games/909/909974d1c7863c2027241e265fe7011f.jpg'}, {'id': 15, 'name': 'Stealth', 'slug': 'stealth', 'language': 'eng', 'games_count': 6172, 'image_background': 'https://media.rawg.io/media/games/364/3642d850efb217c58feab80b8affaa89.jpg'}, {'id': 97, 'name': 'Action RPG', 'slug': 'action-rpg', 'language': 'eng', 'games_count': 6656, 'image_background': 'https://media.rawg.io/media/games/8d4/8d46786ca86b1d95f3dc7e700e2dc4dd.jpg'}, {'id': 69, 'name': 'Action-Adventure', 'slug': 'action-adventure', 'language': 'eng', 'games_count': 15920, 'image_background': 'https://media.rawg.io/media/games/1f4/1f47a270b8f241e4676b14d39ec620f7.jpg'}, {'id': 44, 'name': 'Nudity', 'slug': 'nudity', 'language': 'eng', 'games_count': 6267, 'image_background': 'https://media.rawg.io/media/games/744/744adc36e6573dd67a0cb0e373738d19.jpg'}, {'id': 40, 'name': 'Dark Fantasy', 'slug': 'dark-fantasy', 'language': 'eng', 'games_count': 4001, 'image_background': 'https://media.rawg.io/media/games/64e/64e4fc48c5d977188e8c47287f2a2cef.jpg'}, {'id': 120, 'name': 'Memes', 'slug': 'memes', 'language': 'eng', 'games_count': 1769, 'image_background': 'https://media.rawg.io/media/games/530/5302dd22a190e664531236ca724e8726.jpg'}, {'id': 50, 'name': 'Sexual Content', 'slug': 'sexual-content', 'language': 'eng', 'games_count': 5955, 'image_background': 'https://media.rawg.io/media/games/67f/67f62d1f062a6164f57575e0604ee9f6.jpg'}, {'id': 233, 'name': 'JRPG', 'slug': 'jrpg', 'language': 'eng', 'games_count': 4147, 'image_background': 'https://media.rawg.io/media/games/f84/f84c7c45e074117fb81fecf427f8b41f.jpg'}, {'id': 478, 'name': '3rd-Person Perspective', 'slug': '3rd-person-perspective', 'language': 'eng', 'games_count': 87, 'image_background': 'https://media.rawg.io/media/games/21c/21cc15d233117c6809ec86870559e105.jpg'}, {'id': 278, 'name': 'Assassin', 'slug': 'assassin', 'language': 'eng', 'games_count': 822, 'image_background': 'https://media.rawg.io/media/games/07b/07b5abbe6330a76d6b30636d3aa5e0f3.jpg'}, {'id': 186, 'name': 'Ninja', 'slug': 'ninja', 'language': 'eng', 'games_count': 2327, 'image_background': 'https://media.rawg.io/media/games/be9/be9cf02720c9326e11d0fda14518554f.jpg'}, {'id': 580, 'name': 'Souls-like', 'slug': 'souls-like', 'language': 'eng', 'games_count': 1292, 'image_background': 'https://media.rawg.io/media/games/559/559bc0768f656ad0c63c54b80a82d680.jpg'}], 'publishers': [{'id': 7133, 'name': 'Activison', 'slug': 'activison', 'games_count': 98, 'image_background': 'https://media.rawg.io/media/games/6f7/6f7341dd656910be2c2cda39193a7ec9.jpg'}, {'id': 11230, 'name': 'FromSoftware', 'slug': 'fromsoftware', 'games_count': 25, 'image_background': 'https://media.rawg.io/media/games/1c8/1c8c873ecaf82bb408db648cedeca542.jpg'}, {'id': 11620, 'name': 'Activision Value Publishing', 'slug': 'activision-value-publishing', 'games_count': 177, 'image_background': 'https://media.rawg.io/media/screenshots/ae0/ae0bb3c16d0660acb18b197d5856baf8.jpg'}, {'id': 28582, 'name': '方块游戏', 'slug': 'fang-kuai-you-xi', 'games_count': 3, 'image_background': 'https://media.rawg.io/media/screenshots/254/2544338055ab1ca78339ed0efaf225a0.jpg'}], 'esrb_rating': {'id': 4, 'name': 'Mature', 'slug': 'mature'}, 'clip': None, 'description_raw': \"Sekiro: Shadows Die Twice is a game about a ninja (or shinobi, as they call it), who is seeking revenge in the Sengoku era Japan.\\n\\n###Plot\\nThe game is set in the 16th century in a fictionalized version of Japan. The main protagonist is a member of a shinobi clan. A samurai from the rival Ashina clan captured the protagonist's master, and the protagonist himself lost his arm trying to protect his leader. However, a sculptor of Buddha statues managed to replace the lost limb with an advanced prosthetic arm. The protagonist accepted a new name, Sekiro, meaning “one-armed wolf”. Now his goal is to avenge his clan and to save his leader from the hands of their enemies.\\n\\n###Gameplay\\nThe player controls Sekiro from the third person view and navigates the character as he fights multiple enemies. Sekiro: Shadows Die Twice features an innovative combat system that doesn't use hit points. Instead, the opponents can be killed with a single precision strike. However, the player has to fight his or her way through the opponent's blocks and parries to land the deadly blow. The main character fights with his sword (katana) in the right hand, while his left hand can host a variety of upgrades, such as an ax, a torch, or a shield. The game also emphasizes stealth action. The player has to use a grappling hook to access multiple locations. Sekiro: Shadows Die Twice has no multiplayer.\"}\n"
     ]
    },
    {
     "ename": "KeyError",
     "evalue": "'results'",
     "output_type": "error",
     "traceback": [
      "\u001b[0;31m---------------------------------------------------------------------------\u001b[0m",
      "\u001b[0;31mKeyError\u001b[0m                                  Traceback (most recent call last)",
      "Input \u001b[0;32mIn [9]\u001b[0m, in \u001b[0;36m<cell line: 1>\u001b[0;34m()\u001b[0m\n\u001b[0;32m----> 1\u001b[0m \u001b[43mrawg\u001b[49m\u001b[38;5;241;43m.\u001b[39;49m\u001b[43mget_game\u001b[49m\u001b[43m(\u001b[49m\u001b[43ma\u001b[49m\u001b[43m[\u001b[49m\u001b[38;5;124;43m'\u001b[39;49m\u001b[38;5;124;43mid\u001b[39;49m\u001b[38;5;124;43m'\u001b[39;49m\u001b[43m]\u001b[49m\u001b[43m)\u001b[49m\n",
      "Input \u001b[0;32mIn [6]\u001b[0m, in \u001b[0;36mRAWG.get_game\u001b[0;34m(self, gameId)\u001b[0m\n\u001b[1;32m     53\u001b[0m response \u001b[38;5;241m=\u001b[39m handle_get_requests(\u001b[38;5;28mself\u001b[39m\u001b[38;5;241m.\u001b[39mgames_url\u001b[38;5;241m+\u001b[39m\u001b[38;5;124mf\u001b[39m\u001b[38;5;124m\"\u001b[39m\u001b[38;5;124m/\u001b[39m\u001b[38;5;132;01m{\u001b[39;00mgameId\u001b[38;5;132;01m}\u001b[39;00m\u001b[38;5;124m\"\u001b[39m, params)\u001b[38;5;241m.\u001b[39mcontent\n\u001b[1;32m     54\u001b[0m \u001b[38;5;28mprint\u001b[39m(json\u001b[38;5;241m.\u001b[39mloads(response))\n\u001b[0;32m---> 55\u001b[0m \u001b[38;5;28;01mreturn\u001b[39;00m \u001b[43mjson\u001b[49m\u001b[38;5;241;43m.\u001b[39;49m\u001b[43mloads\u001b[49m\u001b[43m(\u001b[49m\u001b[43mresponse\u001b[49m\u001b[43m)\u001b[49m\u001b[43m[\u001b[49m\u001b[38;5;124;43m'\u001b[39;49m\u001b[38;5;124;43mresults\u001b[39;49m\u001b[38;5;124;43m'\u001b[39;49m\u001b[43m]\u001b[49m\n",
      "\u001b[0;31mKeyError\u001b[0m: 'results'"
     ]
    }
   ],
   "source": [
    "rawg.get_game(a['id'])"
   ]
  },
  {
   "cell_type": "code",
   "execution_count": null,
   "id": "b2698c3e",
   "metadata": {},
   "outputs": [],
   "source": []
  },
  {
   "cell_type": "code",
   "execution_count": 10,
   "id": "9cc56d74",
   "metadata": {},
   "outputs": [
    {
     "name": "stdout",
     "output_type": "stream",
     "text": [
      "response: {'message': 'Authorization Failure. Have you tried:', 'Tip 1': 'Ensure you are sending Authorization and Client-ID as headers.', 'Tip 2': \"Ensure Authorization value starts with 'Bearer ', including the space\", 'Tip 3': 'Ensure Authorization value ends with the App Access Token you generated, NOT your Client Secret.', 'Docs': 'https://api-docs.igdb.com/#authentication', 'Discord': 'https://discord.gg/igdb'}\n"
     ]
    }
   ],
   "source": [
    "from requests import post\n",
    "response = post('https://api.igdb.com/v4/search', \n",
    "                **{'headers': {'Client-ID': 'Client ID', 'Authorization': 'sp3elgge49xg8p7ilgjasigij6kzjn'},'data': 'fields alternative_name,character,checksum,collection,company,description,game,name,platform,published_at,test_dummy,theme;'})\n",
    "print (\"response: %s\" % str(response.json()))"
   ]
  },
  {
   "cell_type": "code",
   "execution_count": null,
   "id": "87a37935",
   "metadata": {},
   "outputs": [],
   "source": []
  }
 ],
 "metadata": {
  "kernelspec": {
   "display_name": "topictagging",
   "language": "python",
   "name": "topictagging"
  },
  "language_info": {
   "codemirror_mode": {
    "name": "ipython",
    "version": 3
   },
   "file_extension": ".py",
   "mimetype": "text/x-python",
   "name": "python",
   "nbconvert_exporter": "python",
   "pygments_lexer": "ipython3",
   "version": "3.9.12"
  }
 },
 "nbformat": 4,
 "nbformat_minor": 5
}
